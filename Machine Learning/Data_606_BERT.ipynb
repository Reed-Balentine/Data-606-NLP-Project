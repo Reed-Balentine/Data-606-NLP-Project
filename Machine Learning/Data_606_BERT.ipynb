{
 "cells": [
  {
   "cell_type": "code",
   "execution_count": 1,
   "metadata": {
    "id": "ytuzFF6qAkVg"
   },
   "outputs": [],
   "source": [
    "import os\n",
    "import numpy as np\n",
    "import pandas as pd"
   ]
  },
  {
   "cell_type": "code",
   "execution_count": 2,
   "metadata": {
    "colab": {
     "base_uri": "https://localhost:8080/"
    },
    "id": "dyHItZUL0r1v",
    "outputId": "cc3b28d7-20cd-449d-bc2c-a1d93205868d"
   },
   "outputs": [
    {
     "data": {
      "text/plain": [
       "'os.chdir(\\'/content\\')\\n!mkdir /root/.kaggle\\n!echo \\'{\"username\":\"daniel1998xx\",\"key\":\"c99226b7cd73b12d4681a78a5b02d227\"}\\' > /root/.kaggle/kaggle.json\\n!kaggle datasets download -d shuyangli94/interview-npr-media-dialog-transcripts\\nif not os.path.exists(\"/content/NPR_Data\"):\\n    os.makedirs(\"/content/NPR_Data\")\\n'"
      ]
     },
     "execution_count": 2,
     "metadata": {},
     "output_type": "execute_result"
    }
   ],
   "source": [
    "'''os.chdir('/content')\n",
    "!mkdir /root/.kaggle\n",
    "!echo '{\"username\":\"daniel1998xx\",\"key\":\"c99226b7cd73b12d4681a78a5b02d227\"}' > /root/.kaggle/kaggle.json\n",
    "!kaggle datasets download -d shuyangli94/interview-npr-media-dialog-transcripts\n",
    "if not os.path.exists(\"/content/NPR_Data\"):\n",
    "    os.makedirs(\"/content/NPR_Data\")\n",
    "'''"
   ]
  },
  {
   "cell_type": "code",
   "execution_count": 3,
   "metadata": {
    "colab": {
     "base_uri": "https://localhost:8080/"
    },
    "id": "0ODUQNk0061i",
    "outputId": "11ab0d97-c293-4247-c758-48d111bdbf60"
   },
   "outputs": [
    {
     "data": {
      "text/plain": [
       "'!unzip interview-npr-media-dialog-transcripts.zip -d NPR_Data'"
      ]
     },
     "execution_count": 3,
     "metadata": {},
     "output_type": "execute_result"
    }
   ],
   "source": [
    "'''!unzip interview-npr-media-dialog-transcripts.zip -d NPR_Data'''"
   ]
  },
  {
   "cell_type": "code",
   "execution_count": 4,
   "metadata": {
    "id": "gsH5NyNb09VR"
   },
   "outputs": [
    {
     "data": {
      "text/plain": [
       "\"os.chdir('/content/NPR_Data')\""
      ]
     },
     "execution_count": 4,
     "metadata": {},
     "output_type": "execute_result"
    }
   ],
   "source": [
    "'''os.chdir('/content/NPR_Data')'''"
   ]
  },
  {
   "cell_type": "code",
   "execution_count": 5,
   "metadata": {
    "id": "6H4d5re61Avm"
   },
   "outputs": [],
   "source": [
    "df = pd.read_csv('utterances.csv')\n",
    "df['speaker'] = df['speaker'].str.upper()\n",
    "df['speaker'] = df['speaker'].str.split(', H', expand=True)[0]"
   ]
  },
  {
   "cell_type": "code",
   "execution_count": 6,
   "metadata": {
    "id": "W5H_Tbfr1Hff"
   },
   "outputs": [],
   "source": [
    "df = df[df['speaker'] != '_NO_SPEAKER']"
   ]
  },
  {
   "cell_type": "code",
   "execution_count": 7,
   "metadata": {
    "id": "Kc-QXD2w1Mw7"
   },
   "outputs": [],
   "source": [
    "df['utterance_len'] = df['utterance'].str.len()"
   ]
  },
  {
   "cell_type": "code",
   "execution_count": 8,
   "metadata": {
    "id": "J0rAadft1PJU"
   },
   "outputs": [],
   "source": [
    "df = df.dropna()\n",
    "host_id_df = pd.read_json('host_id.json', orient='index')"
   ]
  },
  {
   "cell_type": "code",
   "execution_count": 9,
   "metadata": {
    "id": "5yrjY_Dk1S_l"
   },
   "outputs": [],
   "source": [
    "host_id_df = pd.read_json('host_id.json', orient='index')\n",
    "host_id_df.reset_index(inplace=True)\n",
    "host_id_df = host_id_df.rename(columns = {'index':'speaker'})"
   ]
  },
  {
   "cell_type": "code",
   "execution_count": 10,
   "metadata": {
    "id": "1QR0CsBQ1THr"
   },
   "outputs": [],
   "source": [
    "host_id_df['speaker'] = host_id_df['speaker'].astype('string')\n",
    "host_id_df['speaker'] = host_id_df['speaker'].str.upper()\n",
    "host_id_df.rename(columns={0:'host_id'}, inplace=True)"
   ]
  },
  {
   "cell_type": "code",
   "execution_count": 11,
   "metadata": {
    "id": "P9iSdtlF1Xsd"
   },
   "outputs": [],
   "source": [
    "mergedf = df.merge(host_id_df, how='left', on='speaker')"
   ]
  },
  {
   "cell_type": "code",
   "execution_count": 12,
   "metadata": {
    "id": "MqLRrUFY1fgg"
   },
   "outputs": [],
   "source": [
    "mergedf['host_id'] = mergedf['host_id'].fillna(-1)"
   ]
  },
  {
   "cell_type": "code",
   "execution_count": 13,
   "metadata": {
    "id": "ixfvWhyziJzI"
   },
   "outputs": [],
   "source": [
    "PreProcess_df = mergedf[mergedf['host_id'] != -1]"
   ]
  },
  {
   "cell_type": "code",
   "execution_count": 14,
   "metadata": {
    "id": "IdhlVuKwiPtG"
   },
   "outputs": [],
   "source": [
    "PreProcess_df = PreProcess_df.loc[PreProcess_df['utterance_len'] >= 100]"
   ]
  },
  {
   "cell_type": "code",
   "execution_count": 15,
   "metadata": {
    "id": "DXyfBNuBiUu1"
   },
   "outputs": [],
   "source": [
    "top_speakers = PreProcess_df.groupby(['speaker']).size().loc[PreProcess_df.groupby(['speaker']).size() > 20000]\n",
    "df = pd.DataFrame(PreProcess_df.loc[PreProcess_df['speaker'].isin(top_speakers.index.values)])\n",
    "df = df.reset_index(drop=True)"
   ]
  },
  {
   "cell_type": "code",
   "execution_count": 16,
   "metadata": {
    "id": "uZ600FV9ihQF"
   },
   "outputs": [],
   "source": [
    "df['utterance'] = df['utterance'].str.lower()"
   ]
  },
  {
   "cell_type": "code",
   "execution_count": 17,
   "metadata": {
    "id": "ScuJvIYqij7S"
   },
   "outputs": [],
   "source": [
    "df['unidentified'] = df['utterance'].str.startswith('unidentified')\n",
    "df = df[df['unidentified'] == False]"
   ]
  },
  {
   "cell_type": "code",
   "execution_count": 18,
   "metadata": {
    "colab": {
     "base_uri": "https://localhost:8080/"
    },
    "id": "3AsQHfUDKQaw",
    "outputId": "bbb0a7df-f0b1-4843-da6e-c38f435ba04e"
   },
   "outputs": [
    {
     "data": {
      "text/plain": [
       "episode          289355\n",
       "episode_order    289355\n",
       "speaker          289355\n",
       "utterance        289355\n",
       "utterance_len    289355\n",
       "host_id          289355\n",
       "unidentified     289355\n",
       "dtype: int64"
      ]
     },
     "execution_count": 18,
     "metadata": {},
     "output_type": "execute_result"
    }
   ],
   "source": [
    "df.count()"
   ]
  },
  {
   "cell_type": "code",
   "execution_count": 19,
   "metadata": {
    "colab": {
     "base_uri": "https://localhost:8080/"
    },
    "id": "1wbgSYxaW78S",
    "outputId": "f3c2ac94-1077-4950-b2ae-1aa942bae2e4"
   },
   "outputs": [
    {
     "data": {
      "text/plain": [
       "NEAL CONAN        126971\n",
       "STEVE INSKEEP      33787\n",
       "ROBERT SIEGEL      29948\n",
       "IRA FLATOW         29888\n",
       "FARAI CHIDEYA      23937\n",
       "MELISSA BLOCK      23134\n",
       "RENEE MONTAGNE     21690\n",
       "Name: speaker, dtype: int64"
      ]
     },
     "execution_count": 19,
     "metadata": {},
     "output_type": "execute_result"
    }
   ],
   "source": [
    "df['speaker'].value_counts()"
   ]
  },
  {
   "cell_type": "code",
   "execution_count": 20,
   "metadata": {
    "colab": {
     "base_uri": "https://localhost:8080/"
    },
    "id": "ZMlc8Dna6D3A",
    "outputId": "83c45ce9-9e9f-4659-8990-779abcb3a830"
   },
   "outputs": [
    {
     "data": {
      "text/plain": [
       "NEAL CONAN        20000\n",
       "MELISSA BLOCK     20000\n",
       "ROBERT SIEGEL     20000\n",
       "IRA FLATOW        20000\n",
       "RENEE MONTAGNE    20000\n",
       "STEVE INSKEEP     20000\n",
       "FARAI CHIDEYA     20000\n",
       "Name: speaker, dtype: int64"
      ]
     },
     "execution_count": 20,
     "metadata": {},
     "output_type": "execute_result"
    }
   ],
   "source": [
    "df = df.groupby('speaker').apply(lambda x: x.sample(20000))\n",
    "df['speaker'].value_counts()"
   ]
  },
  {
   "cell_type": "code",
   "execution_count": 21,
   "metadata": {
    "colab": {
     "base_uri": "https://localhost:8080/",
     "height": 238
    },
    "id": "5Y02GenL_q80",
    "outputId": "53941f1d-5f15-4f22-9141-f6541152e9e0"
   },
   "outputs": [
    {
     "data": {
      "text/html": [
       "<div>\n",
       "<style scoped>\n",
       "    .dataframe tbody tr th:only-of-type {\n",
       "        vertical-align: middle;\n",
       "    }\n",
       "\n",
       "    .dataframe tbody tr th {\n",
       "        vertical-align: top;\n",
       "    }\n",
       "\n",
       "    .dataframe thead th {\n",
       "        text-align: right;\n",
       "    }\n",
       "</style>\n",
       "<table border=\"1\" class=\"dataframe\">\n",
       "  <thead>\n",
       "    <tr style=\"text-align: right;\">\n",
       "      <th></th>\n",
       "      <th>episode</th>\n",
       "      <th>episode_order</th>\n",
       "      <th>speaker</th>\n",
       "      <th>utterance</th>\n",
       "      <th>utterance_len</th>\n",
       "      <th>host_id</th>\n",
       "      <th>unidentified</th>\n",
       "      <th>label</th>\n",
       "    </tr>\n",
       "  </thead>\n",
       "  <tbody>\n",
       "    <tr>\n",
       "      <th>0</th>\n",
       "      <td>30944</td>\n",
       "      <td>1</td>\n",
       "      <td>FARAI CHIDEYA</td>\n",
       "      <td>it's been nearly two years since the state of ...</td>\n",
       "      <td>386.0</td>\n",
       "      <td>29.0</td>\n",
       "      <td>False</td>\n",
       "      <td>5</td>\n",
       "    </tr>\n",
       "    <tr>\n",
       "      <th>1</th>\n",
       "      <td>64052</td>\n",
       "      <td>3</td>\n",
       "      <td>FARAI CHIDEYA</td>\n",
       "      <td>joining us from nassau broadcasting in princet...</td>\n",
       "      <td>556.0</td>\n",
       "      <td>29.0</td>\n",
       "      <td>False</td>\n",
       "      <td>5</td>\n",
       "    </tr>\n",
       "    <tr>\n",
       "      <th>2</th>\n",
       "      <td>51944</td>\n",
       "      <td>25</td>\n",
       "      <td>FARAI CHIDEYA</td>\n",
       "      <td>but you know, now that barack obama had this m...</td>\n",
       "      <td>404.0</td>\n",
       "      <td>29.0</td>\n",
       "      <td>False</td>\n",
       "      <td>5</td>\n",
       "    </tr>\n",
       "    <tr>\n",
       "      <th>3</th>\n",
       "      <td>4679</td>\n",
       "      <td>13</td>\n",
       "      <td>FARAI CHIDEYA</td>\n",
       "      <td>it's the - you know - so, that's something tha...</td>\n",
       "      <td>121.0</td>\n",
       "      <td>29.0</td>\n",
       "      <td>False</td>\n",
       "      <td>5</td>\n",
       "    </tr>\n",
       "    <tr>\n",
       "      <th>4</th>\n",
       "      <td>51964</td>\n",
       "      <td>1</td>\n",
       "      <td>FARAI CHIDEYA</td>\n",
       "      <td>it's a field where homosexuality is often tabo...</td>\n",
       "      <td>244.0</td>\n",
       "      <td>29.0</td>\n",
       "      <td>False</td>\n",
       "      <td>5</td>\n",
       "    </tr>\n",
       "  </tbody>\n",
       "</table>\n",
       "</div>"
      ],
      "text/plain": [
       "   episode  episode_order        speaker  \\\n",
       "0    30944              1  FARAI CHIDEYA   \n",
       "1    64052              3  FARAI CHIDEYA   \n",
       "2    51944             25  FARAI CHIDEYA   \n",
       "3     4679             13  FARAI CHIDEYA   \n",
       "4    51964              1  FARAI CHIDEYA   \n",
       "\n",
       "                                           utterance  utterance_len  host_id  \\\n",
       "0  it's been nearly two years since the state of ...          386.0     29.0   \n",
       "1  joining us from nassau broadcasting in princet...          556.0     29.0   \n",
       "2  but you know, now that barack obama had this m...          404.0     29.0   \n",
       "3  it's the - you know - so, that's something tha...          121.0     29.0   \n",
       "4  it's a field where homosexuality is often tabo...          244.0     29.0   \n",
       "\n",
       "   unidentified  label  \n",
       "0         False      5  \n",
       "1         False      5  \n",
       "2         False      5  \n",
       "3         False      5  \n",
       "4         False      5  "
      ]
     },
     "execution_count": 21,
     "metadata": {},
     "output_type": "execute_result"
    }
   ],
   "source": [
    "def add_label(x):\n",
    "    if x=='NEAL CONAN':\n",
    "        return 1\n",
    "    elif x=='STEVE INSKEEP':\n",
    "        return 2\n",
    "    elif x=='ROBERT SIEGEL':\n",
    "        return 3\n",
    "    elif x=='IRA FLATOW':\n",
    "        return 4\n",
    "    elif x=='FARAI CHIDEYA':\n",
    "        return 5\n",
    "    elif x=='MELISSA BLOCK':\n",
    "        return 6\n",
    "    else:\n",
    "        return 7\n",
    " \n",
    "df['label'] = df['speaker'].apply(add_label)\n",
    "df = df.reset_index(drop=True)\n",
    "df.head()"
   ]
  },
  {
   "cell_type": "code",
   "execution_count": 22,
   "metadata": {
    "colab": {
     "base_uri": "https://localhost:8080/",
     "height": 206
    },
    "id": "0t8d8iDpA8DB",
    "outputId": "e8de15e6-4843-4213-b520-3a366f8b21a6"
   },
   "outputs": [
    {
     "data": {
      "text/html": [
       "<div>\n",
       "<style scoped>\n",
       "    .dataframe tbody tr th:only-of-type {\n",
       "        vertical-align: middle;\n",
       "    }\n",
       "\n",
       "    .dataframe tbody tr th {\n",
       "        vertical-align: top;\n",
       "    }\n",
       "\n",
       "    .dataframe thead th {\n",
       "        text-align: right;\n",
       "    }\n",
       "</style>\n",
       "<table border=\"1\" class=\"dataframe\">\n",
       "  <thead>\n",
       "    <tr style=\"text-align: right;\">\n",
       "      <th></th>\n",
       "      <th>episode</th>\n",
       "      <th>episode_order</th>\n",
       "      <th>speaker</th>\n",
       "      <th>utterance</th>\n",
       "      <th>utterance_len</th>\n",
       "      <th>host_id</th>\n",
       "      <th>unidentified</th>\n",
       "      <th>label</th>\n",
       "    </tr>\n",
       "  </thead>\n",
       "  <tbody>\n",
       "    <tr>\n",
       "      <th>0</th>\n",
       "      <td>30944</td>\n",
       "      <td>1</td>\n",
       "      <td>FARAI CHIDEYA</td>\n",
       "      <td>it's been nearly two years since the state of ...</td>\n",
       "      <td>386.0</td>\n",
       "      <td>29.0</td>\n",
       "      <td>False</td>\n",
       "      <td>5</td>\n",
       "    </tr>\n",
       "    <tr>\n",
       "      <th>1</th>\n",
       "      <td>64052</td>\n",
       "      <td>3</td>\n",
       "      <td>FARAI CHIDEYA</td>\n",
       "      <td>joining us from nassau broadcasting in princet...</td>\n",
       "      <td>556.0</td>\n",
       "      <td>29.0</td>\n",
       "      <td>False</td>\n",
       "      <td>5</td>\n",
       "    </tr>\n",
       "    <tr>\n",
       "      <th>2</th>\n",
       "      <td>51944</td>\n",
       "      <td>25</td>\n",
       "      <td>FARAI CHIDEYA</td>\n",
       "      <td>but you know, now that barack obama had this m...</td>\n",
       "      <td>404.0</td>\n",
       "      <td>29.0</td>\n",
       "      <td>False</td>\n",
       "      <td>5</td>\n",
       "    </tr>\n",
       "    <tr>\n",
       "      <th>3</th>\n",
       "      <td>4679</td>\n",
       "      <td>13</td>\n",
       "      <td>FARAI CHIDEYA</td>\n",
       "      <td>it's the - you know - so, that's something tha...</td>\n",
       "      <td>121.0</td>\n",
       "      <td>29.0</td>\n",
       "      <td>False</td>\n",
       "      <td>5</td>\n",
       "    </tr>\n",
       "    <tr>\n",
       "      <th>4</th>\n",
       "      <td>51964</td>\n",
       "      <td>1</td>\n",
       "      <td>FARAI CHIDEYA</td>\n",
       "      <td>it's a field where homosexuality is often tabo...</td>\n",
       "      <td>244.0</td>\n",
       "      <td>29.0</td>\n",
       "      <td>False</td>\n",
       "      <td>5</td>\n",
       "    </tr>\n",
       "  </tbody>\n",
       "</table>\n",
       "</div>"
      ],
      "text/plain": [
       "   episode  episode_order        speaker  \\\n",
       "0    30944              1  FARAI CHIDEYA   \n",
       "1    64052              3  FARAI CHIDEYA   \n",
       "2    51944             25  FARAI CHIDEYA   \n",
       "3     4679             13  FARAI CHIDEYA   \n",
       "4    51964              1  FARAI CHIDEYA   \n",
       "\n",
       "                                           utterance  utterance_len  host_id  \\\n",
       "0  it's been nearly two years since the state of ...          386.0     29.0   \n",
       "1  joining us from nassau broadcasting in princet...          556.0     29.0   \n",
       "2  but you know, now that barack obama had this m...          404.0     29.0   \n",
       "3  it's the - you know - so, that's something tha...          121.0     29.0   \n",
       "4  it's a field where homosexuality is often tabo...          244.0     29.0   \n",
       "\n",
       "   unidentified  label  \n",
       "0         False      5  \n",
       "1         False      5  \n",
       "2         False      5  \n",
       "3         False      5  \n",
       "4         False      5  "
      ]
     },
     "execution_count": 22,
     "metadata": {},
     "output_type": "execute_result"
    }
   ],
   "source": [
    "df = df.reset_index(drop=True)\n",
    "df.head()"
   ]
  },
  {
   "cell_type": "code",
   "execution_count": 23,
   "metadata": {
    "id": "3JYfju9jBdZJ"
   },
   "outputs": [],
   "source": [
    "from sklearn.model_selection import train_test_split"
   ]
  },
  {
   "cell_type": "code",
   "execution_count": 24,
   "metadata": {
    "id": "Vo4rujhHC-Ab"
   },
   "outputs": [],
   "source": [
    "X_train, X_test, y_train, y_test = train_test_split(df['utterance'],df['label'], stratify=df['label'])"
   ]
  },
  {
   "cell_type": "code",
   "execution_count": 25,
   "metadata": {
    "id": "UgFe8ul_w-FJ"
   },
   "outputs": [],
   "source": [
    "import tensorflow as tf\n",
    "import tensorflow_hub as hub\n",
    "import tensorflow_text as text"
   ]
  },
  {
   "cell_type": "code",
   "execution_count": 26,
   "metadata": {
    "colab": {
     "base_uri": "https://localhost:8080/"
    },
    "id": "Y9b4U7T6BW_A",
    "outputId": "d3a436bf-c00a-4863-b98b-8b64d859775b"
   },
   "outputs": [
    {
     "name": "stdout",
     "output_type": "stream",
     "text": [
      "WARNING:tensorflow:Please fix your imports. Module tensorflow.python.training.tracking.data_structures has been moved to tensorflow.python.trackable.data_structures. The old module will be deleted in version 2.11.\n"
     ]
    },
    {
     "name": "stderr",
     "output_type": "stream",
     "text": [
      "WARNING:absl:Deleting lock file C:\\Users\\ALFRED~1\\AppData\\Local\\Temp\\tfhub_modules\\d760773f85f64fc84ae0b47310f7cfe3bcec4868.lock due to inactivity.\n"
     ]
    }
   ],
   "source": [
    "bert_preprocess = hub.KerasLayer(\"https://tfhub.dev/tensorflow/bert_en_uncased_preprocess/3\")\n",
    "bert_encoder = hub.KerasLayer(\"https://tfhub.dev/tensorflow/bert_en_uncased_L-12_H-768_A-12/4\")"
   ]
  },
  {
   "cell_type": "code",
   "execution_count": 27,
   "metadata": {
    "colab": {
     "base_uri": "https://localhost:8080/"
    },
    "id": "R0U1_Fg5BjZH",
    "outputId": "15882d93-5ce2-46f4-a9a3-7cbd593d0759"
   },
   "outputs": [],
   "source": [
    "text_input = tf.keras.layers.Input(shape=(), dtype=tf.string, name='text')\n",
    "preprocessed_text = bert_preprocess(text_input)\n",
    "outputs = bert_encoder(preprocessed_text)"
   ]
  },
  {
   "cell_type": "code",
   "execution_count": 28,
   "metadata": {
    "colab": {
     "base_uri": "https://localhost:8080/"
    },
    "id": "mg1svOGEB77Z",
    "outputId": "59b0910c-0da5-49de-9ee9-d9e4123de455"
   },
   "outputs": [
    {
     "name": "stdout",
     "output_type": "stream",
     "text": [
      "Model: \"model\"\n",
      "__________________________________________________________________________________________________\n",
      " Layer (type)                   Output Shape         Param #     Connected to                     \n",
      "==================================================================================================\n",
      " text (InputLayer)              [(None,)]            0           []                               \n",
      "                                                                                                  \n",
      " keras_layer (KerasLayer)       {'input_type_ids':   0           ['text[0][0]']                   \n",
      "                                (None, 128),                                                      \n",
      "                                 'input_mask': (Non                                               \n",
      "                                e, 128),                                                          \n",
      "                                 'input_word_ids':                                                \n",
      "                                (None, 128)}                                                      \n",
      "                                                                                                  \n",
      " keras_layer_1 (KerasLayer)     {'pooled_output': (  109482241   ['keras_layer[0][0]',            \n",
      "                                None, 768),                       'keras_layer[0][1]',            \n",
      "                                 'encoder_outputs':               'keras_layer[0][2]']            \n",
      "                                 [(None, 128, 768),                                               \n",
      "                                 (None, 128, 768),                                                \n",
      "                                 (None, 128, 768),                                                \n",
      "                                 (None, 128, 768),                                                \n",
      "                                 (None, 128, 768),                                                \n",
      "                                 (None, 128, 768),                                                \n",
      "                                 (None, 128, 768),                                                \n",
      "                                 (None, 128, 768),                                                \n",
      "                                 (None, 128, 768),                                                \n",
      "                                 (None, 128, 768),                                                \n",
      "                                 (None, 128, 768),                                                \n",
      "                                 (None, 128, 768)],                                               \n",
      "                                 'default': (None,                                                \n",
      "                                768),                                                             \n",
      "                                 'sequence_output':                                               \n",
      "                                 (None, 128, 768)}                                                \n",
      "                                                                                                  \n",
      " dropout (Dropout)              (None, 768)          0           ['keras_layer_1[0][13]']         \n",
      "                                                                                                  \n",
      " output (Dense)                 (None, 1)            769         ['dropout[0][0]']                \n",
      "                                                                                                  \n",
      "==================================================================================================\n",
      "Total params: 109,483,010\n",
      "Trainable params: 769\n",
      "Non-trainable params: 109,482,241\n",
      "__________________________________________________________________________________________________\n"
     ]
    }
   ],
   "source": [
    "l = tf.keras.layers.Dropout(0.1, name=\"dropout\")(outputs['pooled_output'])\n",
    "l = tf.keras.layers.Dense(1, activation='sigmoid', name=\"output\")(l)\n",
    "model = tf.keras.Model(inputs=[text_input], outputs = [l])\n",
    "model.summary()"
   ]
  },
  {
   "cell_type": "code",
   "execution_count": 29,
   "metadata": {
    "id": "cETFl2RRw900"
   },
   "outputs": [],
   "source": [
    "keras_metrics = [\n",
    "      tf.keras.metrics.BinaryAccuracy(name='accuracy'),\n",
    "      tf.keras.metrics.Precision(name='precision'),\n",
    "      tf.keras.metrics.Recall(name='recall')\n",
    "]\n",
    "\n",
    "model.compile(optimizer='adam',\n",
    " loss='binary_crossentropy',\n",
    " metrics=keras_metrics)"
   ]
  },
  {
   "cell_type": "code",
   "execution_count": 30,
   "metadata": {
    "colab": {
     "base_uri": "https://localhost:8080/",
     "height": 345
    },
    "id": "GIHRcckwClDk",
    "outputId": "4745183e-4cb2-4690-9a84-8486cc33f3ac"
   },
   "outputs": [
    {
     "name": "stdout",
     "output_type": "stream",
     "text": [
      "Epoch 1/5\n",
      "3282/3282 [==============================] - 9093s 3s/step - loss: -2137.4939 - accuracy: 0.1427 - precision: 1.0000 - recall: 0.9981\n",
      "Epoch 2/5\n",
      "3282/3282 [==============================] - 9224s 3s/step - loss: -6423.1162 - accuracy: 0.1428 - precision: 1.0000 - recall: 0.9986\n",
      "Epoch 3/5\n",
      "3282/3282 [==============================] - 9082s 3s/step - loss: -10704.0605 - accuracy: 0.1428 - precision: 1.0000 - recall: 0.9987\n",
      "Epoch 4/5\n",
      "3282/3282 [==============================] - 9014s 3s/step - loss: -14997.4346 - accuracy: 0.1428 - precision: 1.0000 - recall: 0.9987\n",
      "Epoch 5/5\n",
      "3282/3282 [==============================] - 9055s 3s/step - loss: -19286.7969 - accuracy: 0.1428 - precision: 1.0000 - recall: 0.9987\n"
     ]
    },
    {
     "data": {
      "text/plain": [
       "<keras.callbacks.History at 0x1dc048c6e20>"
      ]
     },
     "execution_count": 30,
     "metadata": {},
     "output_type": "execute_result"
    }
   ],
   "source": [
    "model.fit(X_train, y_train, epochs=5)"
   ]
  },
  {
   "cell_type": "code",
   "execution_count": null,
   "metadata": {
    "id": "F_u-I_w2G60v"
   },
   "outputs": [],
   "source": []
  }
 ],
 "metadata": {
  "colab": {
   "provenance": []
  },
  "kernelspec": {
   "display_name": "Python 3",
   "language": "python",
   "name": "python3"
  },
  "language_info": {
   "codemirror_mode": {
    "name": "ipython",
    "version": 3
   },
   "file_extension": ".py",
   "mimetype": "text/x-python",
   "name": "python",
   "nbconvert_exporter": "python",
   "pygments_lexer": "ipython3",
   "version": "3.9.2"
  }
 },
 "nbformat": 4,
 "nbformat_minor": 1
}
