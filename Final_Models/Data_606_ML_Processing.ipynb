{
 "cells": [
  {
   "cell_type": "code",
   "execution_count": 1,
   "metadata": {},
   "outputs": [],
   "source": [
    "import os\n",
    "import numpy as np\n",
    "import pandas as pd\n",
    "from sklearn.model_selection import train_test_split\n",
    "from sklearn.feature_extraction.text import CountVectorizer, TfidfVectorizer\n",
    "\n",
    "from sklearn.naive_bayes import MultinomialNB\n",
    "from sklearn.model_selection import GridSearchCV\n",
    "from sklearn.pipeline import Pipeline\n",
    "from sklearn.metrics import classification_report, accuracy_score"
   ]
  },
  {
   "cell_type": "code",
   "execution_count": 2,
   "metadata": {
    "id": "DiECXIAHtkCe"
   },
   "outputs": [],
   "source": [
    "df = pd.read_csv('utterances.csv')\n",
    "df['speaker'] = df['speaker'].str.upper()\n",
    "df['speaker'] = df['speaker'].str.split(', H', expand=True)[0]\n",
    "df = df[df['speaker'] != '_NO_SPEAKER']\n",
    "df['utterance_len'] = df['utterance'].str.len()\n",
    "df = df.dropna()\n",
    "host_id_df = pd.read_json('host_id.json', orient='index')\n",
    "host_id_df = pd.read_json('host_id.json', orient='index')\n",
    "host_id_df.reset_index(inplace=True)\n",
    "host_id_df = host_id_df.rename(columns = {'index':'speaker'})\n",
    "host_id_df['speaker'] = host_id_df['speaker'].astype('string')\n",
    "host_id_df['speaker'] = host_id_df['speaker'].str.upper()\n",
    "host_id_df.rename(columns={0:'host_id'}, inplace=True)\n",
    "mergedf = df.merge(host_id_df, how='left', on='speaker')\n",
    "mergedf['host_id'] = mergedf['host_id'].fillna(-1)\n",
    "PreProcess_df = mergedf[mergedf['host_id'] != -1]\n",
    "PreProcess_df = PreProcess_df.loc[PreProcess_df['utterance_len'] >= 100]\n",
    "top_speakers = PreProcess_df.groupby(['speaker']).size().loc[PreProcess_df.groupby(['speaker']).size() > 20000]\n",
    "df = pd.DataFrame(PreProcess_df.loc[PreProcess_df['speaker'].isin(top_speakers.index.values)])\n",
    "df = df.reset_index(drop=True)\n",
    "df['utterance'] = df['utterance'].str.lower()\n",
    "df['unidentified'] = df['utterance'].str.startswith('unidentified')\n",
    "df = df[df['unidentified'] == False]\n",
    "df.count()\n",
    "df['speaker'].value_counts()\n",
    "df = df.groupby('speaker').apply(lambda x: x.sample(20000))\n",
    "df['speaker'].value_counts()\n",
    "def add_label(x):\n",
    "    if x=='NEAL CONAN':\n",
    "        return 1\n",
    "    elif x=='STEVE INSKEEP':\n",
    "        return 2\n",
    "    elif x=='ROBERT SIEGEL':\n",
    "        return 3\n",
    "    elif x=='IRA FLATOW':\n",
    "        return 4\n",
    "    elif x=='FARAI CHIDEYA':\n",
    "        return 5\n",
    "    elif x=='MELISSA BLOCK':\n",
    "        return 6\n",
    "    else:\n",
    "        return 7\n",
    " \n",
    "df['label'] = df['speaker'].apply(add_label)\n",
    "df = df.reset_index(drop=True)\n",
    "df.head()\n",
    "df = df.reset_index(drop=True)\n",
    "df.head()\n",
    "X_train, X_test, y_train, y_test = train_test_split(df['utterance'],df['label'], stratify=df['label'])"
   ]
  },
  {
   "cell_type": "code",
   "execution_count": 3,
   "metadata": {},
   "outputs": [],
   "source": [
    "Tfid_Vector = TfidfVectorizer(analyzer='word', stop_words='english', max_features = None, ngram_range=[1, 1], \n",
    "                       binary=False, norm=None, smooth_idf=True, strip_accents=None,\n",
    "                       sublinear_tf=True, use_idf=False)"
   ]
  },
  {
   "cell_type": "code",
   "execution_count": 4,
   "metadata": {},
   "outputs": [],
   "source": [
    "Multi_tfid_pipeline = Pipeline([\n",
    "    ('Tfid', Tfid_Vector),\n",
    "    ('MultinomialNB', MultinomialNB())\n",
    "])"
   ]
  },
  {
   "cell_type": "code",
   "execution_count": 5,
   "metadata": {},
   "outputs": [],
   "source": [
    "MultinomialNB_parameters = {\n",
    "    'Tfid__ngram_range': ([1,1],[1,2],[1,3], [1,4]),\n",
    "    'MultinomialNB__alpha': [0.00001, 0.0001, 0.001, 0.1, 1, 10, 100,1000],\n",
    "    'MultinomialNB__fit_prior': (True, False)    \n",
    "}"
   ]
  },
  {
   "cell_type": "code",
   "execution_count": 6,
   "metadata": {},
   "outputs": [],
   "source": [
    "MultinomialNB_gs = GridSearchCV(Multi_tfid_pipeline, MultinomialNB_parameters, cv=3, verbose = 3, n_jobs = 1)"
   ]
  },
  {
   "cell_type": "code",
   "execution_count": 7,
   "metadata": {},
   "outputs": [
    {
     "name": "stdout",
     "output_type": "stream",
     "text": [
      "Fitting 3 folds for each of 64 candidates, totalling 192 fits\n",
      "[CV 1/3] END MultinomialNB__alpha=1e-05, MultinomialNB__fit_prior=True, Tfid__ngram_range=[1, 1];, score=0.499 total time=   2.4s\n",
      "[CV 2/3] END MultinomialNB__alpha=1e-05, MultinomialNB__fit_prior=True, Tfid__ngram_range=[1, 1];, score=0.498 total time=   2.4s\n",
      "[CV 3/3] END MultinomialNB__alpha=1e-05, MultinomialNB__fit_prior=True, Tfid__ngram_range=[1, 1];, score=0.501 total time=   2.4s\n",
      "[CV 1/3] END MultinomialNB__alpha=1e-05, MultinomialNB__fit_prior=True, Tfid__ngram_range=[1, 2];, score=0.525 total time=   7.8s\n",
      "[CV 2/3] END MultinomialNB__alpha=1e-05, MultinomialNB__fit_prior=True, Tfid__ngram_range=[1, 2];, score=0.522 total time=   7.7s\n",
      "[CV 3/3] END MultinomialNB__alpha=1e-05, MultinomialNB__fit_prior=True, Tfid__ngram_range=[1, 2];, score=0.527 total time=   7.6s\n",
      "[CV 1/3] END MultinomialNB__alpha=1e-05, MultinomialNB__fit_prior=True, Tfid__ngram_range=[1, 3];, score=0.528 total time=  15.1s\n",
      "[CV 2/3] END MultinomialNB__alpha=1e-05, MultinomialNB__fit_prior=True, Tfid__ngram_range=[1, 3];, score=0.527 total time=  14.8s\n",
      "[CV 3/3] END MultinomialNB__alpha=1e-05, MultinomialNB__fit_prior=True, Tfid__ngram_range=[1, 3];, score=0.529 total time=  14.8s\n",
      "[CV 1/3] END MultinomialNB__alpha=1e-05, MultinomialNB__fit_prior=True, Tfid__ngram_range=[1, 4];, score=0.527 total time=  22.0s\n",
      "[CV 2/3] END MultinomialNB__alpha=1e-05, MultinomialNB__fit_prior=True, Tfid__ngram_range=[1, 4];, score=0.527 total time=  22.7s\n",
      "[CV 3/3] END MultinomialNB__alpha=1e-05, MultinomialNB__fit_prior=True, Tfid__ngram_range=[1, 4];, score=0.528 total time=  21.7s\n",
      "[CV 1/3] END MultinomialNB__alpha=1e-05, MultinomialNB__fit_prior=False, Tfid__ngram_range=[1, 1];, score=0.499 total time=   2.3s\n",
      "[CV 2/3] END MultinomialNB__alpha=1e-05, MultinomialNB__fit_prior=False, Tfid__ngram_range=[1, 1];, score=0.498 total time=   2.4s\n",
      "[CV 3/3] END MultinomialNB__alpha=1e-05, MultinomialNB__fit_prior=False, Tfid__ngram_range=[1, 1];, score=0.501 total time=   2.3s\n",
      "[CV 1/3] END MultinomialNB__alpha=1e-05, MultinomialNB__fit_prior=False, Tfid__ngram_range=[1, 2];, score=0.525 total time=   7.9s\n",
      "[CV 2/3] END MultinomialNB__alpha=1e-05, MultinomialNB__fit_prior=False, Tfid__ngram_range=[1, 2];, score=0.522 total time=   7.9s\n",
      "[CV 3/3] END MultinomialNB__alpha=1e-05, MultinomialNB__fit_prior=False, Tfid__ngram_range=[1, 2];, score=0.527 total time=   7.9s\n",
      "[CV 1/3] END MultinomialNB__alpha=1e-05, MultinomialNB__fit_prior=False, Tfid__ngram_range=[1, 3];, score=0.528 total time=  15.3s\n",
      "[CV 2/3] END MultinomialNB__alpha=1e-05, MultinomialNB__fit_prior=False, Tfid__ngram_range=[1, 3];, score=0.527 total time=  15.2s\n",
      "[CV 3/3] END MultinomialNB__alpha=1e-05, MultinomialNB__fit_prior=False, Tfid__ngram_range=[1, 3];, score=0.529 total time=  14.7s\n",
      "[CV 1/3] END MultinomialNB__alpha=1e-05, MultinomialNB__fit_prior=False, Tfid__ngram_range=[1, 4];, score=0.527 total time=  22.2s\n",
      "[CV 2/3] END MultinomialNB__alpha=1e-05, MultinomialNB__fit_prior=False, Tfid__ngram_range=[1, 4];, score=0.527 total time=  22.5s\n",
      "[CV 3/3] END MultinomialNB__alpha=1e-05, MultinomialNB__fit_prior=False, Tfid__ngram_range=[1, 4];, score=0.528 total time=  21.7s\n",
      "[CV 1/3] END MultinomialNB__alpha=0.0001, MultinomialNB__fit_prior=True, Tfid__ngram_range=[1, 1];, score=0.505 total time=   2.5s\n",
      "[CV 2/3] END MultinomialNB__alpha=0.0001, MultinomialNB__fit_prior=True, Tfid__ngram_range=[1, 1];, score=0.503 total time=   2.4s\n",
      "[CV 3/3] END MultinomialNB__alpha=0.0001, MultinomialNB__fit_prior=True, Tfid__ngram_range=[1, 1];, score=0.506 total time=   2.4s\n",
      "[CV 1/3] END MultinomialNB__alpha=0.0001, MultinomialNB__fit_prior=True, Tfid__ngram_range=[1, 2];, score=0.529 total time=   7.9s\n",
      "[CV 2/3] END MultinomialNB__alpha=0.0001, MultinomialNB__fit_prior=True, Tfid__ngram_range=[1, 2];, score=0.527 total time=   7.9s\n",
      "[CV 3/3] END MultinomialNB__alpha=0.0001, MultinomialNB__fit_prior=True, Tfid__ngram_range=[1, 2];, score=0.532 total time=   7.6s\n",
      "[CV 1/3] END MultinomialNB__alpha=0.0001, MultinomialNB__fit_prior=True, Tfid__ngram_range=[1, 3];, score=0.532 total time=  14.8s\n",
      "[CV 2/3] END MultinomialNB__alpha=0.0001, MultinomialNB__fit_prior=True, Tfid__ngram_range=[1, 3];, score=0.531 total time=  14.8s\n",
      "[CV 3/3] END MultinomialNB__alpha=0.0001, MultinomialNB__fit_prior=True, Tfid__ngram_range=[1, 3];, score=0.533 total time=  14.9s\n",
      "[CV 1/3] END MultinomialNB__alpha=0.0001, MultinomialNB__fit_prior=True, Tfid__ngram_range=[1, 4];, score=0.531 total time=  22.2s\n",
      "[CV 2/3] END MultinomialNB__alpha=0.0001, MultinomialNB__fit_prior=True, Tfid__ngram_range=[1, 4];, score=0.531 total time=  22.4s\n",
      "[CV 3/3] END MultinomialNB__alpha=0.0001, MultinomialNB__fit_prior=True, Tfid__ngram_range=[1, 4];, score=0.532 total time=  22.0s\n",
      "[CV 1/3] END MultinomialNB__alpha=0.0001, MultinomialNB__fit_prior=False, Tfid__ngram_range=[1, 1];, score=0.505 total time=   2.4s\n",
      "[CV 2/3] END MultinomialNB__alpha=0.0001, MultinomialNB__fit_prior=False, Tfid__ngram_range=[1, 1];, score=0.503 total time=   2.3s\n",
      "[CV 3/3] END MultinomialNB__alpha=0.0001, MultinomialNB__fit_prior=False, Tfid__ngram_range=[1, 1];, score=0.506 total time=   2.3s\n",
      "[CV 1/3] END MultinomialNB__alpha=0.0001, MultinomialNB__fit_prior=False, Tfid__ngram_range=[1, 2];, score=0.529 total time=   7.8s\n",
      "[CV 2/3] END MultinomialNB__alpha=0.0001, MultinomialNB__fit_prior=False, Tfid__ngram_range=[1, 2];, score=0.527 total time=   7.9s\n",
      "[CV 3/3] END MultinomialNB__alpha=0.0001, MultinomialNB__fit_prior=False, Tfid__ngram_range=[1, 2];, score=0.532 total time=   7.7s\n",
      "[CV 1/3] END MultinomialNB__alpha=0.0001, MultinomialNB__fit_prior=False, Tfid__ngram_range=[1, 3];, score=0.532 total time=  15.1s\n",
      "[CV 2/3] END MultinomialNB__alpha=0.0001, MultinomialNB__fit_prior=False, Tfid__ngram_range=[1, 3];, score=0.531 total time=  14.7s\n",
      "[CV 3/3] END MultinomialNB__alpha=0.0001, MultinomialNB__fit_prior=False, Tfid__ngram_range=[1, 3];, score=0.533 total time=  14.4s\n",
      "[CV 1/3] END MultinomialNB__alpha=0.0001, MultinomialNB__fit_prior=False, Tfid__ngram_range=[1, 4];, score=0.531 total time=  21.9s\n",
      "[CV 2/3] END MultinomialNB__alpha=0.0001, MultinomialNB__fit_prior=False, Tfid__ngram_range=[1, 4];, score=0.531 total time=  22.1s\n",
      "[CV 3/3] END MultinomialNB__alpha=0.0001, MultinomialNB__fit_prior=False, Tfid__ngram_range=[1, 4];, score=0.532 total time=  21.6s\n",
      "[CV 1/3] END MultinomialNB__alpha=0.001, MultinomialNB__fit_prior=True, Tfid__ngram_range=[1, 1];, score=0.513 total time=   2.4s\n",
      "[CV 2/3] END MultinomialNB__alpha=0.001, MultinomialNB__fit_prior=True, Tfid__ngram_range=[1, 1];, score=0.511 total time=   2.3s\n",
      "[CV 3/3] END MultinomialNB__alpha=0.001, MultinomialNB__fit_prior=True, Tfid__ngram_range=[1, 1];, score=0.513 total time=   2.3s\n",
      "[CV 1/3] END MultinomialNB__alpha=0.001, MultinomialNB__fit_prior=True, Tfid__ngram_range=[1, 2];, score=0.537 total time=   7.7s\n",
      "[CV 2/3] END MultinomialNB__alpha=0.001, MultinomialNB__fit_prior=True, Tfid__ngram_range=[1, 2];, score=0.534 total time=   7.7s\n",
      "[CV 3/3] END MultinomialNB__alpha=0.001, MultinomialNB__fit_prior=True, Tfid__ngram_range=[1, 2];, score=0.540 total time=   7.7s\n",
      "[CV 1/3] END MultinomialNB__alpha=0.001, MultinomialNB__fit_prior=True, Tfid__ngram_range=[1, 3];, score=0.540 total time=  15.1s\n",
      "[CV 2/3] END MultinomialNB__alpha=0.001, MultinomialNB__fit_prior=True, Tfid__ngram_range=[1, 3];, score=0.537 total time=  15.0s\n",
      "[CV 3/3] END MultinomialNB__alpha=0.001, MultinomialNB__fit_prior=True, Tfid__ngram_range=[1, 3];, score=0.540 total time=  14.6s\n",
      "[CV 1/3] END MultinomialNB__alpha=0.001, MultinomialNB__fit_prior=True, Tfid__ngram_range=[1, 4];, score=0.538 total time=  22.2s\n",
      "[CV 2/3] END MultinomialNB__alpha=0.001, MultinomialNB__fit_prior=True, Tfid__ngram_range=[1, 4];, score=0.537 total time=  22.2s\n",
      "[CV 3/3] END MultinomialNB__alpha=0.001, MultinomialNB__fit_prior=True, Tfid__ngram_range=[1, 4];, score=0.539 total time=  21.7s\n",
      "[CV 1/3] END MultinomialNB__alpha=0.001, MultinomialNB__fit_prior=False, Tfid__ngram_range=[1, 1];, score=0.513 total time=   2.3s\n",
      "[CV 2/3] END MultinomialNB__alpha=0.001, MultinomialNB__fit_prior=False, Tfid__ngram_range=[1, 1];, score=0.511 total time=   2.3s\n",
      "[CV 3/3] END MultinomialNB__alpha=0.001, MultinomialNB__fit_prior=False, Tfid__ngram_range=[1, 1];, score=0.513 total time=   2.3s\n"
     ]
    },
    {
     "name": "stdout",
     "output_type": "stream",
     "text": [
      "[CV 1/3] END MultinomialNB__alpha=0.001, MultinomialNB__fit_prior=False, Tfid__ngram_range=[1, 2];, score=0.537 total time=   7.8s\n",
      "[CV 2/3] END MultinomialNB__alpha=0.001, MultinomialNB__fit_prior=False, Tfid__ngram_range=[1, 2];, score=0.534 total time=   7.7s\n",
      "[CV 3/3] END MultinomialNB__alpha=0.001, MultinomialNB__fit_prior=False, Tfid__ngram_range=[1, 2];, score=0.540 total time=   7.8s\n",
      "[CV 1/3] END MultinomialNB__alpha=0.001, MultinomialNB__fit_prior=False, Tfid__ngram_range=[1, 3];, score=0.540 total time=  15.0s\n",
      "[CV 2/3] END MultinomialNB__alpha=0.001, MultinomialNB__fit_prior=False, Tfid__ngram_range=[1, 3];, score=0.537 total time=  14.9s\n",
      "[CV 3/3] END MultinomialNB__alpha=0.001, MultinomialNB__fit_prior=False, Tfid__ngram_range=[1, 3];, score=0.540 total time=  14.6s\n",
      "[CV 1/3] END MultinomialNB__alpha=0.001, MultinomialNB__fit_prior=False, Tfid__ngram_range=[1, 4];, score=0.538 total time=  22.1s\n",
      "[CV 2/3] END MultinomialNB__alpha=0.001, MultinomialNB__fit_prior=False, Tfid__ngram_range=[1, 4];, score=0.537 total time=  22.1s\n",
      "[CV 3/3] END MultinomialNB__alpha=0.001, MultinomialNB__fit_prior=False, Tfid__ngram_range=[1, 4];, score=0.539 total time=  22.0s\n",
      "[CV 1/3] END MultinomialNB__alpha=0.1, MultinomialNB__fit_prior=True, Tfid__ngram_range=[1, 1];, score=0.537 total time=   2.4s\n",
      "[CV 2/3] END MultinomialNB__alpha=0.1, MultinomialNB__fit_prior=True, Tfid__ngram_range=[1, 1];, score=0.534 total time=   2.4s\n",
      "[CV 3/3] END MultinomialNB__alpha=0.1, MultinomialNB__fit_prior=True, Tfid__ngram_range=[1, 1];, score=0.534 total time=   2.4s\n",
      "[CV 1/3] END MultinomialNB__alpha=0.1, MultinomialNB__fit_prior=True, Tfid__ngram_range=[1, 2];, score=0.563 total time=   8.0s\n",
      "[CV 2/3] END MultinomialNB__alpha=0.1, MultinomialNB__fit_prior=True, Tfid__ngram_range=[1, 2];, score=0.562 total time=   7.9s\n",
      "[CV 3/3] END MultinomialNB__alpha=0.1, MultinomialNB__fit_prior=True, Tfid__ngram_range=[1, 2];, score=0.564 total time=   7.7s\n",
      "[CV 1/3] END MultinomialNB__alpha=0.1, MultinomialNB__fit_prior=True, Tfid__ngram_range=[1, 3];, score=0.563 total time=  15.4s\n",
      "[CV 2/3] END MultinomialNB__alpha=0.1, MultinomialNB__fit_prior=True, Tfid__ngram_range=[1, 3];, score=0.563 total time=  15.2s\n",
      "[CV 3/3] END MultinomialNB__alpha=0.1, MultinomialNB__fit_prior=True, Tfid__ngram_range=[1, 3];, score=0.563 total time=  14.7s\n",
      "[CV 1/3] END MultinomialNB__alpha=0.1, MultinomialNB__fit_prior=True, Tfid__ngram_range=[1, 4];, score=0.563 total time=  22.2s\n",
      "[CV 2/3] END MultinomialNB__alpha=0.1, MultinomialNB__fit_prior=True, Tfid__ngram_range=[1, 4];, score=0.562 total time=  22.1s\n",
      "[CV 3/3] END MultinomialNB__alpha=0.1, MultinomialNB__fit_prior=True, Tfid__ngram_range=[1, 4];, score=0.562 total time=  21.7s\n",
      "[CV 1/3] END MultinomialNB__alpha=0.1, MultinomialNB__fit_prior=False, Tfid__ngram_range=[1, 1];, score=0.537 total time=   2.4s\n",
      "[CV 2/3] END MultinomialNB__alpha=0.1, MultinomialNB__fit_prior=False, Tfid__ngram_range=[1, 1];, score=0.534 total time=   2.4s\n",
      "[CV 3/3] END MultinomialNB__alpha=0.1, MultinomialNB__fit_prior=False, Tfid__ngram_range=[1, 1];, score=0.534 total time=   2.5s\n",
      "[CV 1/3] END MultinomialNB__alpha=0.1, MultinomialNB__fit_prior=False, Tfid__ngram_range=[1, 2];, score=0.563 total time=   8.0s\n",
      "[CV 2/3] END MultinomialNB__alpha=0.1, MultinomialNB__fit_prior=False, Tfid__ngram_range=[1, 2];, score=0.562 total time=   8.1s\n",
      "[CV 3/3] END MultinomialNB__alpha=0.1, MultinomialNB__fit_prior=False, Tfid__ngram_range=[1, 2];, score=0.564 total time=   7.9s\n",
      "[CV 1/3] END MultinomialNB__alpha=0.1, MultinomialNB__fit_prior=False, Tfid__ngram_range=[1, 3];, score=0.563 total time=  15.1s\n",
      "[CV 2/3] END MultinomialNB__alpha=0.1, MultinomialNB__fit_prior=False, Tfid__ngram_range=[1, 3];, score=0.563 total time=  15.1s\n",
      "[CV 3/3] END MultinomialNB__alpha=0.1, MultinomialNB__fit_prior=False, Tfid__ngram_range=[1, 3];, score=0.563 total time=  14.7s\n",
      "[CV 1/3] END MultinomialNB__alpha=0.1, MultinomialNB__fit_prior=False, Tfid__ngram_range=[1, 4];, score=0.563 total time=  22.1s\n",
      "[CV 2/3] END MultinomialNB__alpha=0.1, MultinomialNB__fit_prior=False, Tfid__ngram_range=[1, 4];, score=0.562 total time=  22.2s\n",
      "[CV 3/3] END MultinomialNB__alpha=0.1, MultinomialNB__fit_prior=False, Tfid__ngram_range=[1, 4];, score=0.562 total time=  21.6s\n",
      "[CV 1/3] END MultinomialNB__alpha=1, MultinomialNB__fit_prior=True, Tfid__ngram_range=[1, 1];, score=0.536 total time=   2.4s\n",
      "[CV 2/3] END MultinomialNB__alpha=1, MultinomialNB__fit_prior=True, Tfid__ngram_range=[1, 1];, score=0.533 total time=   2.4s\n",
      "[CV 3/3] END MultinomialNB__alpha=1, MultinomialNB__fit_prior=True, Tfid__ngram_range=[1, 1];, score=0.534 total time=   2.4s\n",
      "[CV 1/3] END MultinomialNB__alpha=1, MultinomialNB__fit_prior=True, Tfid__ngram_range=[1, 2];, score=0.562 total time=   7.7s\n",
      "[CV 2/3] END MultinomialNB__alpha=1, MultinomialNB__fit_prior=True, Tfid__ngram_range=[1, 2];, score=0.561 total time=   7.7s\n",
      "[CV 3/3] END MultinomialNB__alpha=1, MultinomialNB__fit_prior=True, Tfid__ngram_range=[1, 2];, score=0.563 total time=   7.6s\n",
      "[CV 1/3] END MultinomialNB__alpha=1, MultinomialNB__fit_prior=True, Tfid__ngram_range=[1, 3];, score=0.563 total time=  15.2s\n",
      "[CV 2/3] END MultinomialNB__alpha=1, MultinomialNB__fit_prior=True, Tfid__ngram_range=[1, 3];, score=0.562 total time=  14.8s\n",
      "[CV 3/3] END MultinomialNB__alpha=1, MultinomialNB__fit_prior=True, Tfid__ngram_range=[1, 3];, score=0.564 total time=  14.4s\n",
      "[CV 1/3] END MultinomialNB__alpha=1, MultinomialNB__fit_prior=True, Tfid__ngram_range=[1, 4];, score=0.563 total time=  21.7s\n",
      "[CV 2/3] END MultinomialNB__alpha=1, MultinomialNB__fit_prior=True, Tfid__ngram_range=[1, 4];, score=0.563 total time=  21.8s\n",
      "[CV 3/3] END MultinomialNB__alpha=1, MultinomialNB__fit_prior=True, Tfid__ngram_range=[1, 4];, score=0.563 total time=  21.3s\n",
      "[CV 1/3] END MultinomialNB__alpha=1, MultinomialNB__fit_prior=False, Tfid__ngram_range=[1, 1];, score=0.536 total time=   2.3s\n",
      "[CV 2/3] END MultinomialNB__alpha=1, MultinomialNB__fit_prior=False, Tfid__ngram_range=[1, 1];, score=0.533 total time=   2.3s\n",
      "[CV 3/3] END MultinomialNB__alpha=1, MultinomialNB__fit_prior=False, Tfid__ngram_range=[1, 1];, score=0.534 total time=   2.3s\n",
      "[CV 1/3] END MultinomialNB__alpha=1, MultinomialNB__fit_prior=False, Tfid__ngram_range=[1, 2];, score=0.562 total time=   7.7s\n",
      "[CV 2/3] END MultinomialNB__alpha=1, MultinomialNB__fit_prior=False, Tfid__ngram_range=[1, 2];, score=0.561 total time=   7.6s\n",
      "[CV 3/3] END MultinomialNB__alpha=1, MultinomialNB__fit_prior=False, Tfid__ngram_range=[1, 2];, score=0.563 total time=   7.5s\n",
      "[CV 1/3] END MultinomialNB__alpha=1, MultinomialNB__fit_prior=False, Tfid__ngram_range=[1, 3];, score=0.563 total time=  14.8s\n",
      "[CV 2/3] END MultinomialNB__alpha=1, MultinomialNB__fit_prior=False, Tfid__ngram_range=[1, 3];, score=0.562 total time=  14.7s\n",
      "[CV 3/3] END MultinomialNB__alpha=1, MultinomialNB__fit_prior=False, Tfid__ngram_range=[1, 3];, score=0.564 total time=  14.4s\n",
      "[CV 1/3] END MultinomialNB__alpha=1, MultinomialNB__fit_prior=False, Tfid__ngram_range=[1, 4];, score=0.563 total time=  21.9s\n",
      "[CV 2/3] END MultinomialNB__alpha=1, MultinomialNB__fit_prior=False, Tfid__ngram_range=[1, 4];, score=0.563 total time=  21.8s\n",
      "[CV 3/3] END MultinomialNB__alpha=1, MultinomialNB__fit_prior=False, Tfid__ngram_range=[1, 4];, score=0.563 total time=  21.3s\n",
      "[CV 1/3] END MultinomialNB__alpha=10, MultinomialNB__fit_prior=True, Tfid__ngram_range=[1, 1];, score=0.506 total time=   2.4s\n",
      "[CV 2/3] END MultinomialNB__alpha=10, MultinomialNB__fit_prior=True, Tfid__ngram_range=[1, 1];, score=0.502 total time=   2.8s\n",
      "[CV 3/3] END MultinomialNB__alpha=10, MultinomialNB__fit_prior=True, Tfid__ngram_range=[1, 1];, score=0.503 total time=   2.7s\n",
      "[CV 1/3] END MultinomialNB__alpha=10, MultinomialNB__fit_prior=True, Tfid__ngram_range=[1, 2];, score=0.520 total time=   8.4s\n",
      "[CV 2/3] END MultinomialNB__alpha=10, MultinomialNB__fit_prior=True, Tfid__ngram_range=[1, 2];, score=0.519 total time=   6.3s\n",
      "[CV 3/3] END MultinomialNB__alpha=10, MultinomialNB__fit_prior=True, Tfid__ngram_range=[1, 2];, score=0.517 total time=   7.5s\n",
      "[CV 1/3] END MultinomialNB__alpha=10, MultinomialNB__fit_prior=True, Tfid__ngram_range=[1, 3];, score=0.522 total time=  14.8s\n",
      "[CV 2/3] END MultinomialNB__alpha=10, MultinomialNB__fit_prior=True, Tfid__ngram_range=[1, 3];, score=0.522 total time=  14.8s\n"
     ]
    },
    {
     "name": "stdout",
     "output_type": "stream",
     "text": [
      "[CV 3/3] END MultinomialNB__alpha=10, MultinomialNB__fit_prior=True, Tfid__ngram_range=[1, 3];, score=0.519 total time=  14.5s\n",
      "[CV 1/3] END MultinomialNB__alpha=10, MultinomialNB__fit_prior=True, Tfid__ngram_range=[1, 4];, score=0.523 total time=  21.9s\n",
      "[CV 2/3] END MultinomialNB__alpha=10, MultinomialNB__fit_prior=True, Tfid__ngram_range=[1, 4];, score=0.523 total time=  21.8s\n",
      "[CV 3/3] END MultinomialNB__alpha=10, MultinomialNB__fit_prior=True, Tfid__ngram_range=[1, 4];, score=0.520 total time=  21.3s\n",
      "[CV 1/3] END MultinomialNB__alpha=10, MultinomialNB__fit_prior=False, Tfid__ngram_range=[1, 1];, score=0.506 total time=   2.3s\n",
      "[CV 2/3] END MultinomialNB__alpha=10, MultinomialNB__fit_prior=False, Tfid__ngram_range=[1, 1];, score=0.502 total time=   2.3s\n",
      "[CV 3/3] END MultinomialNB__alpha=10, MultinomialNB__fit_prior=False, Tfid__ngram_range=[1, 1];, score=0.503 total time=   2.3s\n",
      "[CV 1/3] END MultinomialNB__alpha=10, MultinomialNB__fit_prior=False, Tfid__ngram_range=[1, 2];, score=0.520 total time=   7.6s\n",
      "[CV 2/3] END MultinomialNB__alpha=10, MultinomialNB__fit_prior=False, Tfid__ngram_range=[1, 2];, score=0.519 total time=   7.6s\n",
      "[CV 3/3] END MultinomialNB__alpha=10, MultinomialNB__fit_prior=False, Tfid__ngram_range=[1, 2];, score=0.517 total time=   7.5s\n",
      "[CV 1/3] END MultinomialNB__alpha=10, MultinomialNB__fit_prior=False, Tfid__ngram_range=[1, 3];, score=0.522 total time=  14.7s\n",
      "[CV 2/3] END MultinomialNB__alpha=10, MultinomialNB__fit_prior=False, Tfid__ngram_range=[1, 3];, score=0.522 total time=  14.7s\n",
      "[CV 3/3] END MultinomialNB__alpha=10, MultinomialNB__fit_prior=False, Tfid__ngram_range=[1, 3];, score=0.519 total time=  14.4s\n",
      "[CV 1/3] END MultinomialNB__alpha=10, MultinomialNB__fit_prior=False, Tfid__ngram_range=[1, 4];, score=0.523 total time=  21.8s\n",
      "[CV 2/3] END MultinomialNB__alpha=10, MultinomialNB__fit_prior=False, Tfid__ngram_range=[1, 4];, score=0.523 total time=  21.8s\n",
      "[CV 3/3] END MultinomialNB__alpha=10, MultinomialNB__fit_prior=False, Tfid__ngram_range=[1, 4];, score=0.520 total time=  21.3s\n",
      "[CV 1/3] END MultinomialNB__alpha=100, MultinomialNB__fit_prior=True, Tfid__ngram_range=[1, 1];, score=0.453 total time=   2.3s\n",
      "[CV 2/3] END MultinomialNB__alpha=100, MultinomialNB__fit_prior=True, Tfid__ngram_range=[1, 1];, score=0.451 total time=   2.3s\n",
      "[CV 3/3] END MultinomialNB__alpha=100, MultinomialNB__fit_prior=True, Tfid__ngram_range=[1, 1];, score=0.449 total time=   2.3s\n",
      "[CV 1/3] END MultinomialNB__alpha=100, MultinomialNB__fit_prior=True, Tfid__ngram_range=[1, 2];, score=0.462 total time=   7.6s\n",
      "[CV 2/3] END MultinomialNB__alpha=100, MultinomialNB__fit_prior=True, Tfid__ngram_range=[1, 2];, score=0.461 total time=   7.7s\n",
      "[CV 3/3] END MultinomialNB__alpha=100, MultinomialNB__fit_prior=True, Tfid__ngram_range=[1, 2];, score=0.458 total time=   7.5s\n",
      "[CV 1/3] END MultinomialNB__alpha=100, MultinomialNB__fit_prior=True, Tfid__ngram_range=[1, 3];, score=0.464 total time=  14.7s\n",
      "[CV 2/3] END MultinomialNB__alpha=100, MultinomialNB__fit_prior=True, Tfid__ngram_range=[1, 3];, score=0.463 total time=  14.7s\n",
      "[CV 3/3] END MultinomialNB__alpha=100, MultinomialNB__fit_prior=True, Tfid__ngram_range=[1, 3];, score=0.460 total time=  14.4s\n",
      "[CV 1/3] END MultinomialNB__alpha=100, MultinomialNB__fit_prior=True, Tfid__ngram_range=[1, 4];, score=0.464 total time=  21.8s\n",
      "[CV 2/3] END MultinomialNB__alpha=100, MultinomialNB__fit_prior=True, Tfid__ngram_range=[1, 4];, score=0.464 total time=  21.8s\n",
      "[CV 3/3] END MultinomialNB__alpha=100, MultinomialNB__fit_prior=True, Tfid__ngram_range=[1, 4];, score=0.460 total time=  21.3s\n",
      "[CV 1/3] END MultinomialNB__alpha=100, MultinomialNB__fit_prior=False, Tfid__ngram_range=[1, 1];, score=0.453 total time=   2.3s\n",
      "[CV 2/3] END MultinomialNB__alpha=100, MultinomialNB__fit_prior=False, Tfid__ngram_range=[1, 1];, score=0.451 total time=   2.3s\n",
      "[CV 3/3] END MultinomialNB__alpha=100, MultinomialNB__fit_prior=False, Tfid__ngram_range=[1, 1];, score=0.449 total time=   2.3s\n",
      "[CV 1/3] END MultinomialNB__alpha=100, MultinomialNB__fit_prior=False, Tfid__ngram_range=[1, 2];, score=0.462 total time=   7.6s\n",
      "[CV 2/3] END MultinomialNB__alpha=100, MultinomialNB__fit_prior=False, Tfid__ngram_range=[1, 2];, score=0.461 total time=   7.6s\n",
      "[CV 3/3] END MultinomialNB__alpha=100, MultinomialNB__fit_prior=False, Tfid__ngram_range=[1, 2];, score=0.458 total time=   7.5s\n",
      "[CV 1/3] END MultinomialNB__alpha=100, MultinomialNB__fit_prior=False, Tfid__ngram_range=[1, 3];, score=0.464 total time=  14.8s\n",
      "[CV 2/3] END MultinomialNB__alpha=100, MultinomialNB__fit_prior=False, Tfid__ngram_range=[1, 3];, score=0.463 total time=  14.7s\n",
      "[CV 3/3] END MultinomialNB__alpha=100, MultinomialNB__fit_prior=False, Tfid__ngram_range=[1, 3];, score=0.460 total time=  14.4s\n",
      "[CV 1/3] END MultinomialNB__alpha=100, MultinomialNB__fit_prior=False, Tfid__ngram_range=[1, 4];, score=0.464 total time=  21.8s\n",
      "[CV 2/3] END MultinomialNB__alpha=100, MultinomialNB__fit_prior=False, Tfid__ngram_range=[1, 4];, score=0.464 total time=  21.8s\n",
      "[CV 3/3] END MultinomialNB__alpha=100, MultinomialNB__fit_prior=False, Tfid__ngram_range=[1, 4];, score=0.460 total time=  21.2s\n",
      "[CV 1/3] END MultinomialNB__alpha=1000, MultinomialNB__fit_prior=True, Tfid__ngram_range=[1, 1];, score=0.393 total time=   2.3s\n",
      "[CV 2/3] END MultinomialNB__alpha=1000, MultinomialNB__fit_prior=True, Tfid__ngram_range=[1, 1];, score=0.397 total time=   2.3s\n",
      "[CV 3/3] END MultinomialNB__alpha=1000, MultinomialNB__fit_prior=True, Tfid__ngram_range=[1, 1];, score=0.389 total time=   2.3s\n",
      "[CV 1/3] END MultinomialNB__alpha=1000, MultinomialNB__fit_prior=True, Tfid__ngram_range=[1, 2];, score=0.404 total time=   7.6s\n",
      "[CV 2/3] END MultinomialNB__alpha=1000, MultinomialNB__fit_prior=True, Tfid__ngram_range=[1, 2];, score=0.406 total time=   7.6s\n",
      "[CV 3/3] END MultinomialNB__alpha=1000, MultinomialNB__fit_prior=True, Tfid__ngram_range=[1, 2];, score=0.399 total time=   7.5s\n",
      "[CV 1/3] END MultinomialNB__alpha=1000, MultinomialNB__fit_prior=True, Tfid__ngram_range=[1, 3];, score=0.406 total time=  14.7s\n",
      "[CV 2/3] END MultinomialNB__alpha=1000, MultinomialNB__fit_prior=True, Tfid__ngram_range=[1, 3];, score=0.408 total time=  14.7s\n",
      "[CV 3/3] END MultinomialNB__alpha=1000, MultinomialNB__fit_prior=True, Tfid__ngram_range=[1, 3];, score=0.401 total time=  14.4s\n",
      "[CV 1/3] END MultinomialNB__alpha=1000, MultinomialNB__fit_prior=True, Tfid__ngram_range=[1, 4];, score=0.407 total time=  21.8s\n",
      "[CV 2/3] END MultinomialNB__alpha=1000, MultinomialNB__fit_prior=True, Tfid__ngram_range=[1, 4];, score=0.409 total time=  21.8s\n",
      "[CV 3/3] END MultinomialNB__alpha=1000, MultinomialNB__fit_prior=True, Tfid__ngram_range=[1, 4];, score=0.402 total time=  21.2s\n",
      "[CV 1/3] END MultinomialNB__alpha=1000, MultinomialNB__fit_prior=False, Tfid__ngram_range=[1, 1];, score=0.393 total time=   2.3s\n",
      "[CV 2/3] END MultinomialNB__alpha=1000, MultinomialNB__fit_prior=False, Tfid__ngram_range=[1, 1];, score=0.397 total time=   2.3s\n",
      "[CV 3/3] END MultinomialNB__alpha=1000, MultinomialNB__fit_prior=False, Tfid__ngram_range=[1, 1];, score=0.389 total time=   2.3s\n",
      "[CV 1/3] END MultinomialNB__alpha=1000, MultinomialNB__fit_prior=False, Tfid__ngram_range=[1, 2];, score=0.404 total time=   7.6s\n",
      "[CV 2/3] END MultinomialNB__alpha=1000, MultinomialNB__fit_prior=False, Tfid__ngram_range=[1, 2];, score=0.406 total time=   7.7s\n",
      "[CV 3/3] END MultinomialNB__alpha=1000, MultinomialNB__fit_prior=False, Tfid__ngram_range=[1, 2];, score=0.399 total time=   7.5s\n",
      "[CV 1/3] END MultinomialNB__alpha=1000, MultinomialNB__fit_prior=False, Tfid__ngram_range=[1, 3];, score=0.406 total time=  14.7s\n",
      "[CV 2/3] END MultinomialNB__alpha=1000, MultinomialNB__fit_prior=False, Tfid__ngram_range=[1, 3];, score=0.408 total time=  14.7s\n",
      "[CV 3/3] END MultinomialNB__alpha=1000, MultinomialNB__fit_prior=False, Tfid__ngram_range=[1, 3];, score=0.401 total time=  14.4s\n",
      "[CV 1/3] END MultinomialNB__alpha=1000, MultinomialNB__fit_prior=False, Tfid__ngram_range=[1, 4];, score=0.407 total time=  21.7s\n",
      "[CV 2/3] END MultinomialNB__alpha=1000, MultinomialNB__fit_prior=False, Tfid__ngram_range=[1, 4];, score=0.409 total time=  21.7s\n",
      "[CV 3/3] END MultinomialNB__alpha=1000, MultinomialNB__fit_prior=False, Tfid__ngram_range=[1, 4];, score=0.402 total time=  21.3s\n"
     ]
    },
    {
     "data": {
      "text/plain": [
       "GridSearchCV(cv=3,\n",
       "             estimator=Pipeline(steps=[('Tfid',\n",
       "                                        TfidfVectorizer(ngram_range=[1, 1],\n",
       "                                                        norm=None,\n",
       "                                                        stop_words='english',\n",
       "                                                        sublinear_tf=True,\n",
       "                                                        use_idf=False)),\n",
       "                                       ('MultinomialNB', MultinomialNB())]),\n",
       "             n_jobs=1,\n",
       "             param_grid={'MultinomialNB__alpha': [1e-05, 0.0001, 0.001, 0.1, 1,\n",
       "                                                  10, 100, 1000],\n",
       "                         'MultinomialNB__fit_prior': (True, False),\n",
       "                         'Tfid__ngram_range': ([1, 1], [1, 2], [1, 3], [1, 4])},\n",
       "             verbose=3)"
      ]
     },
     "execution_count": 7,
     "metadata": {},
     "output_type": "execute_result"
    }
   ],
   "source": [
    "MultinomialNB_gs.fit(X_train, y_train)"
   ]
  },
  {
   "cell_type": "code",
   "execution_count": 8,
   "metadata": {},
   "outputs": [
    {
     "name": "stdout",
     "output_type": "stream",
     "text": [
      "{'MultinomialNB__alpha': 0.1, 'MultinomialNB__fit_prior': True, 'Tfid__ngram_range': [1, 3]}\n",
      "0.563152380952381\n"
     ]
    }
   ],
   "source": [
    "print(MultinomialNB_gs.best_params_)\n",
    "print(MultinomialNB_gs.best_score_)"
   ]
  },
  {
   "cell_type": "code",
   "execution_count": 9,
   "metadata": {},
   "outputs": [],
   "source": [
    "MultinomialNB_y_pred = MultinomialNB_gs.predict(X_train)"
   ]
  },
  {
   "cell_type": "code",
   "execution_count": 10,
   "metadata": {},
   "outputs": [
    {
     "name": "stdout",
     "output_type": "stream",
     "text": [
      "              precision    recall  f1-score   support\n",
      "\n",
      "           1       1.00      1.00      1.00     15000\n",
      "           2       1.00      1.00      1.00     15000\n",
      "           3       1.00      1.00      1.00     15000\n",
      "           4       1.00      1.00      1.00     15000\n",
      "           5       1.00      1.00      1.00     15000\n",
      "           6       1.00      1.00      1.00     15000\n",
      "           7       1.00      1.00      1.00     15000\n",
      "\n",
      "    accuracy                           1.00    105000\n",
      "   macro avg       1.00      1.00      1.00    105000\n",
      "weighted avg       1.00      1.00      1.00    105000\n",
      "\n",
      "0.9992190476190477\n"
     ]
    }
   ],
   "source": [
    "print(classification_report(y_train, MultinomialNB_y_pred))\n",
    "print(accuracy_score(y_train, MultinomialNB_y_pred))"
   ]
  },
  {
   "cell_type": "code",
   "execution_count": 11,
   "metadata": {},
   "outputs": [],
   "source": [
    "test_pred = MultinomialNB_gs.predict(X_test)"
   ]
  },
  {
   "cell_type": "code",
   "execution_count": 12,
   "metadata": {},
   "outputs": [
    {
     "name": "stdout",
     "output_type": "stream",
     "text": [
      "              precision    recall  f1-score   support\n",
      "\n",
      "           1       0.72      0.60      0.65      5000\n",
      "           2       0.50      0.50      0.50      5000\n",
      "           3       0.48      0.41      0.44      5000\n",
      "           4       0.77      0.86      0.81      5000\n",
      "           5       0.67      0.82      0.74      5000\n",
      "           6       0.49      0.43      0.45      5000\n",
      "           7       0.44      0.48      0.46      5000\n",
      "\n",
      "    accuracy                           0.58     35000\n",
      "   macro avg       0.58      0.58      0.58     35000\n",
      "weighted avg       0.58      0.58      0.58     35000\n",
      "\n",
      "0.5838571428571429\n"
     ]
    }
   ],
   "source": [
    "print(classification_report(y_test, test_pred))\n",
    "print(accuracy_score(y_test, test_pred))"
   ]
  },
  {
   "cell_type": "markdown",
   "metadata": {
    "id": "zGhnOB9E5jSI"
   },
   "source": [
    "# --------------------------------------------------------------------------"
   ]
  }
 ],
 "metadata": {
  "colab": {
   "provenance": []
  },
  "kernelspec": {
   "display_name": "Python 3",
   "language": "python",
   "name": "python3"
  },
  "language_info": {
   "codemirror_mode": {
    "name": "ipython",
    "version": 3
   },
   "file_extension": ".py",
   "mimetype": "text/x-python",
   "name": "python",
   "nbconvert_exporter": "python",
   "pygments_lexer": "ipython3",
   "version": "3.9.2"
  }
 },
 "nbformat": 4,
 "nbformat_minor": 1
}
