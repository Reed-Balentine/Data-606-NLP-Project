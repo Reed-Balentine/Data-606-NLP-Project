{
  "nbformat": 4,
  "nbformat_minor": 0,
  "metadata": {
    "colab": {
      "provenance": []
    },
    "kernelspec": {
      "name": "python3",
      "display_name": "Python 3"
    },
    "language_info": {
      "name": "python"
    }
  },
  "cells": [
    {
      "cell_type": "code",
      "execution_count": 5,
      "metadata": {
        "colab": {
          "base_uri": "https://localhost:8080/"
        },
        "id": "dyHItZUL0r1v",
        "outputId": "7b7d1450-b885-42bf-f9fa-1abf4254cfab"
      },
      "outputs": [
        {
          "output_type": "stream",
          "name": "stdout",
          "text": [
            "mkdir: cannot create directory ‘/root/.kaggle’: File exists\n",
            "Warning: Your Kaggle API key is readable by other users on this system! To fix this, you can run 'chmod 600 /root/.kaggle/kaggle.json'\n",
            "interview-npr-media-dialog-transcripts.zip: Skipping, found more recently modified local copy (use --force to force download)\n"
          ]
        }
      ],
      "source": [
        "import os\n",
        "import numpy as np\n",
        "import pandas as pd\n",
        "os.chdir('/content')\n",
        "!mkdir /root/.kaggle\n",
        "!echo '{\"username\":\"reedbalentine\",\"key\":\"0a77017a301886b3c06793f4c21c30fc\"}' > /root/.kaggle/kaggle.json\n",
        "!kaggle datasets download -d shuyangli94/interview-npr-media-dialog-transcripts\n",
        "if not os.path.exists(\"/content/NPR_Data\"):\n",
        "    os.makedirs(\"/content/NPR_Data\")\n"
      ]
    },
    {
      "cell_type": "code",
      "source": [
        "!unzip interview-npr-media-dialog-transcripts.zip -d NPR_Data"
      ],
      "metadata": {
        "colab": {
          "base_uri": "https://localhost:8080/"
        },
        "id": "0ODUQNk0061i",
        "outputId": "553268db-9c66-456e-9001-fd3ba76dd2a8"
      },
      "execution_count": 6,
      "outputs": [
        {
          "output_type": "stream",
          "name": "stdout",
          "text": [
            "Archive:  interview-npr-media-dialog-transcripts.zip\n",
            "replace NPR_Data/episodes.csv? [y]es, [n]o, [A]ll, [N]one, [r]ename: N\n"
          ]
        }
      ]
    },
    {
      "cell_type": "code",
      "source": [
        "os.chdir('/content/NPR_Data')"
      ],
      "metadata": {
        "id": "gsH5NyNb09VR"
      },
      "execution_count": 7,
      "outputs": []
    },
    {
      "cell_type": "code",
      "source": [
        "df = pd.read_csv('utterances.csv')\n",
        "df['speaker'] = df['speaker'].str.upper()\n",
        "df['speaker'] = df['speaker'].str.split(', H', expand=True)[0]"
      ],
      "metadata": {
        "id": "6H4d5re61Avm"
      },
      "execution_count": 8,
      "outputs": []
    },
    {
      "cell_type": "code",
      "source": [
        "df = df[df['speaker'] != '_NO_SPEAKER']"
      ],
      "metadata": {
        "id": "W5H_Tbfr1Hff"
      },
      "execution_count": 9,
      "outputs": []
    },
    {
      "cell_type": "code",
      "source": [
        "df['utterance_len'] = df['utterance'].str.len()"
      ],
      "metadata": {
        "id": "Kc-QXD2w1Mw7"
      },
      "execution_count": 10,
      "outputs": []
    },
    {
      "cell_type": "code",
      "source": [
        "df = df.dropna()\n",
        "host_id_df = pd.read_json('host_id.json', orient='index')"
      ],
      "metadata": {
        "id": "J0rAadft1PJU"
      },
      "execution_count": 11,
      "outputs": []
    },
    {
      "cell_type": "code",
      "source": [
        "host_id_df = pd.read_json('host_id.json', orient='index')\n",
        "host_id_df.reset_index(inplace=True)\n",
        "host_id_df = host_id_df.rename(columns = {'index':'speaker'})"
      ],
      "metadata": {
        "id": "5yrjY_Dk1S_l"
      },
      "execution_count": 12,
      "outputs": []
    },
    {
      "cell_type": "code",
      "source": [
        "host_id_df['speaker'] = host_id_df['speaker'].astype('string')\n",
        "host_id_df['speaker'] = host_id_df['speaker'].str.upper()\n",
        "host_id_df.rename(columns={0:'host_id'}, inplace=True)"
      ],
      "metadata": {
        "id": "1QR0CsBQ1THr"
      },
      "execution_count": 13,
      "outputs": []
    },
    {
      "cell_type": "code",
      "source": [
        "mergedf = df.merge(host_id_df, how='left', on='speaker')"
      ],
      "metadata": {
        "id": "P9iSdtlF1Xsd"
      },
      "execution_count": 14,
      "outputs": []
    },
    {
      "cell_type": "code",
      "source": [
        "mergedf['host_id'] = mergedf['host_id'].fillna(-1)"
      ],
      "metadata": {
        "id": "MqLRrUFY1fgg"
      },
      "execution_count": 15,
      "outputs": []
    }
  ]
}